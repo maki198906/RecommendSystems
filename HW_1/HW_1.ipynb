{
 "cells": [
  {
   "cell_type": "markdown",
   "metadata": {},
   "source": [
    "### Постройте топ фильмов в категориях Action и Comedy"
   ]
  },
  {
   "cell_type": "code",
   "execution_count": 2,
   "metadata": {},
   "outputs": [],
   "source": [
    "import pandas as pd\n",
    "import numpy as np\n",
    "import matplotlib.pyplot as plt\n",
    "%matplotlib inline"
   ]
  },
  {
   "cell_type": "code",
   "execution_count": 3,
   "metadata": {},
   "outputs": [],
   "source": [
    "movies = pd.read_csv('movies.csv')\n",
    "ratings = pd.read_csv('ratings.csv')"
   ]
  },
  {
   "cell_type": "code",
   "execution_count": 4,
   "metadata": {},
   "outputs": [
    {
     "data": {
      "text/html": [
       "<div>\n",
       "<style scoped>\n",
       "    .dataframe tbody tr th:only-of-type {\n",
       "        vertical-align: middle;\n",
       "    }\n",
       "\n",
       "    .dataframe tbody tr th {\n",
       "        vertical-align: top;\n",
       "    }\n",
       "\n",
       "    .dataframe thead th {\n",
       "        text-align: right;\n",
       "    }\n",
       "</style>\n",
       "<table border=\"1\" class=\"dataframe\">\n",
       "  <thead>\n",
       "    <tr style=\"text-align: right;\">\n",
       "      <th></th>\n",
       "      <th>movieId</th>\n",
       "      <th>title</th>\n",
       "      <th>genres</th>\n",
       "    </tr>\n",
       "  </thead>\n",
       "  <tbody>\n",
       "    <tr>\n",
       "      <th>0</th>\n",
       "      <td>1</td>\n",
       "      <td>Toy Story (1995)</td>\n",
       "      <td>Adventure|Animation|Children|Comedy|Fantasy</td>\n",
       "    </tr>\n",
       "  </tbody>\n",
       "</table>\n",
       "</div>"
      ],
      "text/plain": [
       "   movieId             title                                       genres\n",
       "0        1  Toy Story (1995)  Adventure|Animation|Children|Comedy|Fantasy"
      ]
     },
     "execution_count": 4,
     "metadata": {},
     "output_type": "execute_result"
    }
   ],
   "source": [
    "movies.head(1)"
   ]
  },
  {
   "cell_type": "code",
   "execution_count": 6,
   "metadata": {},
   "outputs": [
    {
     "data": {
      "text/html": [
       "<div>\n",
       "<style scoped>\n",
       "    .dataframe tbody tr th:only-of-type {\n",
       "        vertical-align: middle;\n",
       "    }\n",
       "\n",
       "    .dataframe tbody tr th {\n",
       "        vertical-align: top;\n",
       "    }\n",
       "\n",
       "    .dataframe thead th {\n",
       "        text-align: right;\n",
       "    }\n",
       "</style>\n",
       "<table border=\"1\" class=\"dataframe\">\n",
       "  <thead>\n",
       "    <tr style=\"text-align: right;\">\n",
       "      <th></th>\n",
       "      <th>userId</th>\n",
       "      <th>movieId</th>\n",
       "      <th>rating</th>\n",
       "      <th>timestamp</th>\n",
       "    </tr>\n",
       "  </thead>\n",
       "  <tbody>\n",
       "    <tr>\n",
       "      <th>0</th>\n",
       "      <td>1</td>\n",
       "      <td>1</td>\n",
       "      <td>4.0</td>\n",
       "      <td>964982703</td>\n",
       "    </tr>\n",
       "  </tbody>\n",
       "</table>\n",
       "</div>"
      ],
      "text/plain": [
       "   userId  movieId  rating  timestamp\n",
       "0       1        1     4.0  964982703"
      ]
     },
     "execution_count": 6,
     "metadata": {},
     "output_type": "execute_result"
    }
   ],
   "source": [
    "ratings.head(1)"
   ]
  },
  {
   "cell_type": "code",
   "execution_count": 8,
   "metadata": {},
   "outputs": [],
   "source": [
    "# соединим таблицу с рейтингами и названиями фильмов\n",
    "joined_ratings = ratings.join(movies.set_index('movieId'),on='movieId')"
   ]
  },
  {
   "cell_type": "code",
   "execution_count": 9,
   "metadata": {},
   "outputs": [
    {
     "data": {
      "text/html": [
       "<div>\n",
       "<style scoped>\n",
       "    .dataframe tbody tr th:only-of-type {\n",
       "        vertical-align: middle;\n",
       "    }\n",
       "\n",
       "    .dataframe tbody tr th {\n",
       "        vertical-align: top;\n",
       "    }\n",
       "\n",
       "    .dataframe thead th {\n",
       "        text-align: right;\n",
       "    }\n",
       "</style>\n",
       "<table border=\"1\" class=\"dataframe\">\n",
       "  <thead>\n",
       "    <tr style=\"text-align: right;\">\n",
       "      <th></th>\n",
       "      <th>userId</th>\n",
       "      <th>movieId</th>\n",
       "      <th>rating</th>\n",
       "      <th>timestamp</th>\n",
       "      <th>title</th>\n",
       "      <th>genres</th>\n",
       "    </tr>\n",
       "  </thead>\n",
       "  <tbody>\n",
       "    <tr>\n",
       "      <th>0</th>\n",
       "      <td>1</td>\n",
       "      <td>1</td>\n",
       "      <td>4.0</td>\n",
       "      <td>964982703</td>\n",
       "      <td>Toy Story (1995)</td>\n",
       "      <td>Adventure|Animation|Children|Comedy|Fantasy</td>\n",
       "    </tr>\n",
       "    <tr>\n",
       "      <th>1</th>\n",
       "      <td>1</td>\n",
       "      <td>3</td>\n",
       "      <td>4.0</td>\n",
       "      <td>964981247</td>\n",
       "      <td>Grumpier Old Men (1995)</td>\n",
       "      <td>Comedy|Romance</td>\n",
       "    </tr>\n",
       "    <tr>\n",
       "      <th>2</th>\n",
       "      <td>1</td>\n",
       "      <td>6</td>\n",
       "      <td>4.0</td>\n",
       "      <td>964982224</td>\n",
       "      <td>Heat (1995)</td>\n",
       "      <td>Action|Crime|Thriller</td>\n",
       "    </tr>\n",
       "    <tr>\n",
       "      <th>3</th>\n",
       "      <td>1</td>\n",
       "      <td>47</td>\n",
       "      <td>5.0</td>\n",
       "      <td>964983815</td>\n",
       "      <td>Seven (a.k.a. Se7en) (1995)</td>\n",
       "      <td>Mystery|Thriller</td>\n",
       "    </tr>\n",
       "    <tr>\n",
       "      <th>4</th>\n",
       "      <td>1</td>\n",
       "      <td>50</td>\n",
       "      <td>5.0</td>\n",
       "      <td>964982931</td>\n",
       "      <td>Usual Suspects, The (1995)</td>\n",
       "      <td>Crime|Mystery|Thriller</td>\n",
       "    </tr>\n",
       "  </tbody>\n",
       "</table>\n",
       "</div>"
      ],
      "text/plain": [
       "   userId  movieId  rating  timestamp                        title  \\\n",
       "0       1        1     4.0  964982703             Toy Story (1995)   \n",
       "1       1        3     4.0  964981247      Grumpier Old Men (1995)   \n",
       "2       1        6     4.0  964982224                  Heat (1995)   \n",
       "3       1       47     5.0  964983815  Seven (a.k.a. Se7en) (1995)   \n",
       "4       1       50     5.0  964982931   Usual Suspects, The (1995)   \n",
       "\n",
       "                                        genres  \n",
       "0  Adventure|Animation|Children|Comedy|Fantasy  \n",
       "1                               Comedy|Romance  \n",
       "2                        Action|Crime|Thriller  \n",
       "3                             Mystery|Thriller  \n",
       "4                       Crime|Mystery|Thriller  "
      ]
     },
     "execution_count": 9,
     "metadata": {},
     "output_type": "execute_result"
    }
   ],
   "source": [
    "joined_ratings.head()"
   ]
  },
  {
   "cell_type": "markdown",
   "metadata": {},
   "source": [
    "## Genre Action"
   ]
  },
  {
   "cell_type": "markdown",
   "metadata": {},
   "source": [
    "выберем только те фильмы, которые содержат жанр action"
   ]
  },
  {
   "cell_type": "code",
   "execution_count": 30,
   "metadata": {},
   "outputs": [],
   "source": [
    "r_actions = joined_ratings[joined_ratings.apply(lambda x:'Action' in x['genres'],axis = 1)]"
   ]
  },
  {
   "cell_type": "code",
   "execution_count": 35,
   "metadata": {},
   "outputs": [],
   "source": [
    "%config InlineBackend.figure_format = 'retina'"
   ]
  },
  {
   "cell_type": "code",
   "execution_count": 37,
   "metadata": {},
   "outputs": [
    {
     "data": {
      "text/plain": [
       "<matplotlib.axes._subplots.AxesSubplot at 0x1178ffb70>"
      ]
     },
     "execution_count": 37,
     "metadata": {},
     "output_type": "execute_result"
    },
    {
     "data": {
      "image/png": "[encoded data removed]",
      "text/plain": [
       "<Figure size 432x288 with 1 Axes>"
      ]
     },
     "metadata": {
      "image/png": {
       "height": 250,
       "width": 383
      },
      "needs_background": "light"
     },
     "output_type": "display_data"
    }
   ],
   "source": [
    "# посмотрим на гистограмму распределения оценок\n",
    "r_actions['rating'].hist(bins = 10)"
   ]
  },
  {
   "cell_type": "code",
   "execution_count": 42,
   "metadata": {},
   "outputs": [
    {
     "data": {
      "text/plain": [
       "<matplotlib.axes._subplots.AxesSubplot at 0x1177323c8>"
      ]
     },
     "execution_count": 42,
     "metadata": {},
     "output_type": "execute_result"
    },
    {
     "data": {
      "image/png": "[encoded data removed]",
      "text/plain": [
       "<Figure size 432x288 with 1 Axes>"
      ]
     },
     "metadata": {
      "image/png": {
       "height": 250,
       "width": 383
      },
      "needs_background": "light"
     },
     "output_type": "display_data"
    }
   ],
   "source": [
    "# гистограмма по количеству оценок на фильм\n",
    "r_actions.groupby('title')['rating'].count().hist()"
   ]
  },
  {
   "cell_type": "code",
   "execution_count": 93,
   "metadata": {},
   "outputs": [],
   "source": [
    "# достанем по каждому фильму количество рейтингов\n",
    "title_num_ratings = {}\n",
    "\n",
    "for title, group in r_actions.groupby('title'):\n",
    "    title_num_ratings[title] = group['userId'].unique().shape[0]"
   ]
  },
  {
   "cell_type": "code",
   "execution_count": null,
   "metadata": {},
   "outputs": [],
   "source": [
    "# посмотрим на top-20 фильмов с оценками"
   ]
  },
  {
   "cell_type": "code",
   "execution_count": 94,
   "metadata": {},
   "outputs": [
    {
     "data": {
      "text/plain": [
       "[(278, 'Matrix, The (1999)'),\n",
       " (251, 'Star Wars: Episode IV - A New Hope (1977)'),\n",
       " (238, 'Jurassic Park (1993)'),\n",
       " (237, 'Braveheart (1995)'),\n",
       " (224, 'Terminator 2: Judgment Day (1991)'),\n",
       " (218, 'Fight Club (1999)'),\n",
       " (211, 'Star Wars: Episode V - The Empire Strikes Back (1980)'),\n",
       " (202, 'Independence Day (a.k.a. ID4) (1996)'),\n",
       " (200,\n",
       "  'Raiders of the Lost Ark (Indiana Jones and the Raiders of the Lost Ark) (1981)'),\n",
       " (196, 'Star Wars: Episode VI - Return of the Jedi (1983)'),\n",
       " (189, 'Batman (1989)'),\n",
       " (188, 'Saving Private Ryan (1998)'),\n",
       " (185, 'Lord of the Rings: The Return of the King, The (2003)'),\n",
       " (178, 'True Lies (1994)'),\n",
       " (171, 'Speed (1994)'),\n",
       " (170, 'Gladiator (2000)'),\n",
       " (165, 'Men in Black (a.k.a. MIB) (1997)'),\n",
       " (162, 'Mission: Impossible (1996)'),\n",
       " (157, 'Mask, The (1994)'),\n",
       " (149, 'Dark Knight, The (2008)')]"
      ]
     },
     "execution_count": 94,
     "metadata": {},
     "output_type": "execute_result"
    }
   ],
   "source": [
    "sorted([(title_num_ratings[f],f) for f in title_num_ratings],key=lambda x:-x[0])[:20]"
   ]
  },
  {
   "cell_type": "code",
   "execution_count": 95,
   "metadata": {},
   "outputs": [],
   "source": [
    "# достанем простые статистики по количеству рейтингов\n",
    "min_num_r_action = np.min([title_num_ratings[f] for f in title_num_ratings.keys()])\n",
    "max_num_r_action = np.max([title_num_ratings[f] for f in title_num_ratings.keys()])\n",
    "mean_num_r_action = np.mean([title_num_ratings[f] for f in title_num_ratings.keys()])\n",
    "median_num_r_action = np.median([title_num_ratings[f] for f in title_num_ratings.keys()])"
   ]
  },
  {
   "cell_type": "code",
   "execution_count": 96,
   "metadata": {},
   "outputs": [
    {
     "name": "stdout",
     "output_type": "stream",
     "text": [
      "1\n",
      "278\n",
      "16.766830870279147\n",
      "5.0\n"
     ]
    }
   ],
   "source": [
    "print(min_num_r_action)\n",
    "print(max_num_r_action)\n",
    "print(mean_num_r_action)\n",
    "print(median_num_r_action)"
   ]
  },
  {
   "cell_type": "code",
   "execution_count": 97,
   "metadata": {},
   "outputs": [],
   "source": [
    "# считаем средний рейтинг на каждый фильм\n",
    "title_mean_rating = {}\n",
    "\n",
    "for title, group in r_actions.groupby('title'):\n",
    "    title_mean_rating[title] = group['rating'].mean()"
   ]
  },
  {
   "cell_type": "code",
   "execution_count": 117,
   "metadata": {},
   "outputs": [],
   "source": [
    "film_with_our_mark = []\n",
    "\n",
    "# посчитаем нашу метрику для каждого фильма из датасета\n",
    "for f in title_num_ratings.keys():\n",
    "    film_with_our_mark.append(\n",
    "        (f, title_mean_rating[f] * (title_num_ratings[f] - mean_num_r_action) / (max_num_r_action - min_num_r_action),\\\n",
    "        np.unique(r_actions['genres'][r_actions['title']==f])[0])\n",
    "    )                "
   ]
  },
  {
   "cell_type": "code",
   "execution_count": 118,
   "metadata": {},
   "outputs": [
    {
     "data": {
      "text/plain": [
       "[('Matrix, The (1999)', 3.9538121525684975, 'Action|Sci-Fi|Thriller'),\n",
       " ('Star Wars: Episode IV - A New Hope (1977)',\n",
       "  3.5778276873123183,\n",
       "  'Action|Adventure|Sci-Fi'),\n",
       " ('Braveheart (1995)', 3.205422673665224, 'Action|Drama|War'),\n",
       " ('Fight Club (1999)', 3.1041747597843043, 'Action|Crime|Drama|Thriller'),\n",
       " ('Jurassic Park (1993)',\n",
       "  2.9950338781099397,\n",
       "  'Action|Adventure|Sci-Fi|Thriller'),\n",
       " ('Terminator 2: Judgment Day (1991)', 2.9708274874433775, 'Action|Sci-Fi'),\n",
       " ('Star Wars: Episode V - The Empire Strikes Back (1980)',\n",
       "  2.9560183403919225,\n",
       "  'Action|Adventure|Sci-Fi'),\n",
       " ('Raiders of the Lost Ark (Indiana Jones and the Raiders of the Lost Ark) (1981)',\n",
       "  2.78322584517437,\n",
       "  'Action|Adventure'),\n",
       " ('Star Wars: Episode VI - Return of the Jedi (1983)',\n",
       "  2.6773392058535994,\n",
       "  'Action|Adventure|Sci-Fi'),\n",
       " ('Saving Private Ryan (1998)', 2.5631049876453145, 'Action|Drama|War'),\n",
       " ('Lord of the Rings: The Return of the King, The (2003)',\n",
       "  2.5015840545779544,\n",
       "  'Action|Adventure|Drama|Fantasy'),\n",
       " ('Independence Day (a.k.a. ID4) (1996)',\n",
       "  2.304076307579185,\n",
       "  'Action|Adventure|Sci-Fi|Thriller'),\n",
       " ('Gladiator (2000)', 2.178585829950056, 'Action|Adventure|Drama'),\n",
       " ('Batman (1989)', 2.1318184936118105, 'Action|Crime|Thriller'),\n",
       " ('True Lies (1994)',\n",
       "  2.035607183370203,\n",
       "  'Action|Adventure|Comedy|Romance|Thriller'),\n",
       " ('Dark Knight, The (2008)', 2.023241496993645, 'Action|Crime|Drama|IMAX'),\n",
       " ('Speed (1994)', 1.9650752120629666, 'Action|Romance|Thriller'),\n",
       " ('Princess Bride, The (1987)',\n",
       "  1.913487940381406,\n",
       "  'Action|Adventure|Comedy|Fantasy|Romance'),\n",
       " ('Men in Black (a.k.a. MIB) (1997)',\n",
       "  1.866495762698925,\n",
       "  'Action|Comedy|Sci-Fi'),\n",
       " ('Mission: Impossible (1996)',\n",
       "  1.8544949394154755,\n",
       "  'Action|Adventure|Mystery|Thriller')]"
      ]
     },
     "execution_count": 118,
     "metadata": {},
     "output_type": "execute_result"
    }
   ],
   "source": [
    "#топ 20\n",
    "list(sorted(film_with_our_mark, key=lambda x: x[1], reverse=True))[:20]"
   ]
  },
  {
   "cell_type": "markdown",
   "metadata": {},
   "source": [
    "### Проделаем аналогичные операции с жанром Comedy"
   ]
  },
  {
   "cell_type": "code",
   "execution_count": 119,
   "metadata": {},
   "outputs": [],
   "source": [
    "r_comedy = joined_ratings[joined_ratings.apply(lambda x:'Comedy' in x['genres'],axis = 1)]"
   ]
  },
  {
   "cell_type": "code",
   "execution_count": 120,
   "metadata": {},
   "outputs": [
    {
     "data": {
      "text/plain": [
       "<matplotlib.axes._subplots.AxesSubplot at 0x1174c72b0>"
      ]
     },
     "execution_count": 120,
     "metadata": {},
     "output_type": "execute_result"
    },
    {
     "data": {
      "image/png": "[encoded data removed]",
      "text/plain": [
       "<Figure size 432x288 with 1 Axes>"
      ]
     },
     "metadata": {
      "image/png": {
       "height": 250,
       "width": 390
      },
      "needs_background": "light"
     },
     "output_type": "display_data"
    }
   ],
   "source": [
    "# посмотрим на гистограмму распределения оценок\n",
    "r_comedy['rating'].hist(bins = 10)"
   ]
  },
  {
   "cell_type": "code",
   "execution_count": 121,
   "metadata": {},
   "outputs": [
    {
     "data": {
      "text/plain": [
       "<matplotlib.axes._subplots.AxesSubplot at 0x11750cd30>"
      ]
     },
     "execution_count": 121,
     "metadata": {},
     "output_type": "execute_result"
    },
    {
     "data": {
      "image/png": "[encoded data removed]",
      "text/plain": [
       "<Figure size 432x288 with 1 Axes>"
      ]
     },
     "metadata": {
      "image/png": {
       "height": 250,
       "width": 383
      },
      "needs_background": "light"
     },
     "output_type": "display_data"
    }
   ],
   "source": [
    "# гистограмма по количеству оценок на фильм\n",
    "r_comedy.groupby('title')['rating'].count().hist()"
   ]
  },
  {
   "cell_type": "code",
   "execution_count": 122,
   "metadata": {},
   "outputs": [],
   "source": [
    "# достанем по каждому фильму количество рейтингов\n",
    "title_num_ratings = {}\n",
    "\n",
    "for title, group in r_comedy.groupby('title'):\n",
    "    title_num_ratings[title] = group['userId'].unique().shape[0]"
   ]
  },
  {
   "cell_type": "code",
   "execution_count": null,
   "metadata": {},
   "outputs": [],
   "source": [
    "# посмотрим на top-20 фильмов с оценками"
   ]
  },
  {
   "cell_type": "code",
   "execution_count": 123,
   "metadata": {},
   "outputs": [
    {
     "data": {
      "text/plain": [
       "[(329, 'Forrest Gump (1994)'),\n",
       " (307, 'Pulp Fiction (1994)'),\n",
       " (215, 'Toy Story (1995)'),\n",
       " (183, 'Aladdin (1992)'),\n",
       " (181, 'Fargo (1996)'),\n",
       " (178, 'True Lies (1994)'),\n",
       " (171, 'Back to the Future (1985)'),\n",
       " (170, 'Shrek (2001)'),\n",
       " (165, 'Men in Black (a.k.a. MIB) (1997)'),\n",
       " (161, 'Ace Ventura: Pet Detective (1994)'),\n",
       " (157, 'Mask, The (1994)'),\n",
       " (149, 'Pirates of the Caribbean: The Curse of the Black Pearl (2003)'),\n",
       " (144, 'Mrs. Doubtfire (1993)'),\n",
       " (143, 'Groundhog Day (1993)'),\n",
       " (142, 'Princess Bride, The (1987)'),\n",
       " (141, 'Finding Nemo (2003)'),\n",
       " (137, 'Batman Forever (1995)'),\n",
       " (136, 'Monty Python and the Holy Grail (1975)'),\n",
       " (135, 'Pretty Woman (1990)'),\n",
       " (133, 'Dumb & Dumber (Dumb and Dumber) (1994)')]"
      ]
     },
     "execution_count": 123,
     "metadata": {},
     "output_type": "execute_result"
    }
   ],
   "source": [
    "sorted([(title_num_ratings[f],f) for f in title_num_ratings],key=lambda x:-x[0])[:20]"
   ]
  },
  {
   "cell_type": "code",
   "execution_count": 124,
   "metadata": {},
   "outputs": [],
   "source": [
    "# достанем простые статистики по количеству рейтингов\n",
    "min_num_r_comedy = np.min([title_num_ratings[f] for f in title_num_ratings.keys()])\n",
    "max_num_r_comedy = np.max([title_num_ratings[f] for f in title_num_ratings.keys()])\n",
    "mean_num_r_comedy = np.mean([title_num_ratings[f] for f in title_num_ratings.keys()])\n",
    "median_num_r_comedy = np.median([title_num_ratings[f] for f in title_num_ratings.keys()])"
   ]
  },
  {
   "cell_type": "code",
   "execution_count": 125,
   "metadata": {},
   "outputs": [
    {
     "name": "stdout",
     "output_type": "stream",
     "text": [
      "1\n",
      "329\n",
      "10.408315565031982\n",
      "3.0\n"
     ]
    }
   ],
   "source": [
    "print(min_num_r_comedy)\n",
    "print(max_num_r_comedy)\n",
    "print(mean_num_r_comedy)\n",
    "print(median_num_r_comedy)"
   ]
  },
  {
   "cell_type": "code",
   "execution_count": 126,
   "metadata": {},
   "outputs": [],
   "source": [
    "# считаем средний рейтинг на каждый фильм\n",
    "title_mean_rating = {}\n",
    "\n",
    "for title, group in r_comedy.groupby('title'):\n",
    "    title_mean_rating[title] = group['rating'].mean()"
   ]
  },
  {
   "cell_type": "code",
   "execution_count": 127,
   "metadata": {},
   "outputs": [],
   "source": [
    "film_with_our_mark = []\n",
    "\n",
    "# посчитаем нашу метрику для каждого фильма из датасета\n",
    "for f in title_num_ratings.keys():\n",
    "    film_with_our_mark.append(\n",
    "        (f, title_mean_rating[f] * (title_num_ratings[f] - mean_num_r_comedy) / (max_num_r_comedy - min_num_r_comedy),\\\n",
    "        np.unique(r_comedy['genres'][r_comedy['title']==f])[0])\n",
    "    ) "
   ]
  },
  {
   "cell_type": "code",
   "execution_count": 129,
   "metadata": {},
   "outputs": [],
   "source": [
    "a =list(sorted(film_with_our_mark, key=lambda x: x[1], reverse=True))[:20]"
   ]
  },
  {
   "cell_type": "code",
   "execution_count": 144,
   "metadata": {},
   "outputs": [
    {
     "data": {
      "text/plain": [
       "0     (Forrest Gump (1994), 4.044690189004988, Comed...\n",
       "1     (Pulp Fiction (1994), 3.7951694744027207, Come...\n",
       "2     (Toy Story (1995), 2.44570036838738, Adventure...\n",
       "3     (Fargo (1996), 2.1407290948667828, Comedy|Crim...\n",
       "4     (Aladdin (1992), 1.995512278386442, Adventure|...\n",
       "5     (Back to the Future (1985), 1.9770460366271827...\n",
       "6     (Shrek (2001), 1.8818424052365759, Adventure|A...\n",
       "7     (True Lies (1994), 1.7868906474508017, Action|...\n",
       "8     (Princess Bride, The (1987), 1.698011901954134...\n",
       "9     (Men in Black (a.k.a. MIB) (1997), 1.643893466...\n",
       "10    (Pirates of the Caribbean: The Curse of the Bl...\n",
       "11    (Groundhog Day (1993), 1.5943567717320903, Com...\n",
       "12    (Monty Python and the Holy Grail (1975), 1.593...\n",
       "13    (Finding Nemo (2003), 1.5770510239778939, Adve...\n",
       "14    (Monsters, Inc. (2001), 1.4350829348269738, Ad...\n",
       "15    (Mask, The (1994), 1.4233307871967535, Action|...\n",
       "16    (Amelie (Fabuleux destin d'Amélie Poulain, Le)...\n",
       "17    (Ace Ventura: Pet Detective (1994), 1.39589890...\n",
       "18    (Mrs. Doubtfire (1993), 1.380266387285408, Com...\n",
       "19    (Incredibles, The (2004), 1.3401637240626136, ...\n",
       "dtype: object"
      ]
     },
     "execution_count": 144,
     "metadata": {},
     "output_type": "execute_result"
    }
   ],
   "source": [
    "pd.Series(a)"
   ]
  },
  {
   "cell_type": "code",
   "execution_count": 128,
   "metadata": {},
   "outputs": [
    {
     "data": {
      "text/plain": [
       "[('Forrest Gump (1994)', 4.044690189004988, 'Comedy|Drama|Romance|War'),\n",
       " ('Pulp Fiction (1994)', 3.7951694744027207, 'Comedy|Crime|Drama|Thriller'),\n",
       " ('Toy Story (1995)',\n",
       "  2.44570036838738,\n",
       "  'Adventure|Animation|Children|Comedy|Fantasy'),\n",
       " ('Fargo (1996)', 2.1407290948667828, 'Comedy|Crime|Drama|Thriller'),\n",
       " ('Aladdin (1992)',\n",
       "  1.995512278386442,\n",
       "  'Adventure|Animation|Children|Comedy|Musical'),\n",
       " ('Back to the Future (1985)', 1.9770460366271827, 'Adventure|Comedy|Sci-Fi'),\n",
       " ('Shrek (2001)',\n",
       "  1.8818424052365759,\n",
       "  'Adventure|Animation|Children|Comedy|Fantasy|Romance'),\n",
       " ('True Lies (1994)',\n",
       "  1.7868906474508017,\n",
       "  'Action|Adventure|Comedy|Romance|Thriller'),\n",
       " ('Princess Bride, The (1987)',\n",
       "  1.6980119019541347,\n",
       "  'Action|Adventure|Comedy|Fantasy|Romance'),\n",
       " ('Men in Black (a.k.a. MIB) (1997)',\n",
       "  1.6438934662291962,\n",
       "  'Action|Comedy|Sci-Fi'),\n",
       " ('Pirates of the Caribbean: The Curse of the Black Pearl (2003)',\n",
       "  1.5965607778868676,\n",
       "  'Action|Adventure|Comedy|Fantasy'),\n",
       " ('Groundhog Day (1993)', 1.5943567717320903, 'Comedy|Fantasy|Romance'),\n",
       " ('Monty Python and the Holy Grail (1975)',\n",
       "  1.5935458525419635,\n",
       "  'Adventure|Comedy|Fantasy'),\n",
       " ('Finding Nemo (2003)',\n",
       "  1.5770510239778939,\n",
       "  'Adventure|Animation|Children|Comedy'),\n",
       " ('Monsters, Inc. (2001)',\n",
       "  1.4350829348269738,\n",
       "  'Adventure|Animation|Children|Comedy|Fantasy'),\n",
       " ('Mask, The (1994)', 1.4233307871967535, 'Action|Comedy|Crime|Fantasy'),\n",
       " (\"Amelie (Fabuleux destin d'Amélie Poulain, Le) (2001)\",\n",
       "  1.397739471198017,\n",
       "  'Comedy|Romance'),\n",
       " ('Ace Ventura: Pet Detective (1994)', 1.3958989079479782, 'Comedy'),\n",
       " ('Mrs. Doubtfire (1993)', 1.380266387285408, 'Comedy|Drama'),\n",
       " ('Incredibles, The (2004)',\n",
       "  1.3401637240626136,\n",
       "  'Action|Adventure|Animation|Children|Comedy')]"
      ]
     },
     "execution_count": 128,
     "metadata": {},
     "output_type": "execute_result"
    }
   ],
   "source": [
    "#топ 20\n",
    "list(sorted(film_with_our_mark, key=lambda x: x[1], reverse=True))[:20]"
   ]
  },
  {
   "cell_type": "code",
   "execution_count": null,
   "metadata": {},
   "outputs": [],
   "source": []
  },
  {
   "cell_type": "code",
   "execution_count": null,
   "metadata": {},
   "outputs": [],
   "source": []
  },
  {
   "cell_type": "code",
   "execution_count": null,
   "metadata": {},
   "outputs": [],
   "source": []
  },
  {
   "cell_type": "code",
   "execution_count": null,
   "metadata": {},
   "outputs": [],
   "source": []
  }
 ],
 "metadata": {
  "kernelspec": {
   "display_name": "Python 3",
   "language": "python",
   "name": "python3"
  },
  "language_info": {
   "codemirror_mode": {
    "name": "ipython",
    "version": 3
   },
   "file_extension": ".py",
   "mimetype": "text/x-python",
   "name": "python",
   "nbconvert_exporter": "python",
   "pygments_lexer": "ipython3",
   "version": "3.6.8"
  }
 },
 "nbformat": 4,
 "nbformat_minor": 2
}
