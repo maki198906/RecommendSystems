{
 "cells": [
  {
   "cell_type": "markdown",
   "metadata": {},
   "source": [
    "### Требуется построить модель рекомендаций на основе скрытых факторов (implicit) на основе dataset’а https://grouplens.org/datasets/hetrec-2011/ (Delicious Bookmarks)”"
   ]
  },
  {
   "cell_type": "code",
   "execution_count": 1,
   "metadata": {},
   "outputs": [],
   "source": [
    "import pandas as pd\n",
    "import numpy as np\n",
    "from tqdm import tqdm_notebook\n",
    "\n",
    "import scipy.sparse as sparse\n",
    "\n",
    "%matplotlib inline\n",
    "import warnings\n",
    "warnings.simplefilter('ignore')\n",
    "from implicit.als import AlternatingLeastSquares"
   ]
  },
  {
   "cell_type": "code",
   "execution_count": 8,
   "metadata": {},
   "outputs": [],
   "source": [
    "raw_data = pd.read_table('user_taggedbookmarks-timestamps.dat',sep='\\\\n',delimiter='\\\\t')"
   ]
  },
  {
   "cell_type": "code",
   "execution_count": 11,
   "metadata": {},
   "outputs": [],
   "source": [
    "raw_data.drop(raw_data.columns[3],axis=1, inplace=True)"
   ]
  },
  {
   "cell_type": "code",
   "execution_count": 13,
   "metadata": {},
   "outputs": [
    {
     "data": {
      "text/html": [
       "<div>\n",
       "<style scoped>\n",
       "    .dataframe tbody tr th:only-of-type {\n",
       "        vertical-align: middle;\n",
       "    }\n",
       "\n",
       "    .dataframe tbody tr th {\n",
       "        vertical-align: top;\n",
       "    }\n",
       "\n",
       "    .dataframe thead th {\n",
       "        text-align: right;\n",
       "    }\n",
       "</style>\n",
       "<table border=\"1\" class=\"dataframe\">\n",
       "  <thead>\n",
       "    <tr style=\"text-align: right;\">\n",
       "      <th></th>\n",
       "      <th>userID</th>\n",
       "      <th>bookmarkID</th>\n",
       "      <th>tagID</th>\n",
       "    </tr>\n",
       "  </thead>\n",
       "  <tbody>\n",
       "    <tr>\n",
       "      <th>0</th>\n",
       "      <td>8</td>\n",
       "      <td>1</td>\n",
       "      <td>1</td>\n",
       "    </tr>\n",
       "  </tbody>\n",
       "</table>\n",
       "</div>"
      ],
      "text/plain": [
       "   userID  bookmarkID  tagID\n",
       "0       8           1      1"
      ]
     },
     "execution_count": 13,
     "metadata": {},
     "output_type": "execute_result"
    }
   ],
   "source": [
    "raw_data.head(1)"
   ]
  },
  {
   "cell_type": "code",
   "execution_count": 25,
   "metadata": {},
   "outputs": [],
   "source": [
    "# tags per bookmark and unique user\n",
    "raw_data = raw_data.groupby(['userID','bookmarkID'],as_index=False)['tagID'].count()\n",
    "raw_data.rename(columns={'tagID':'tags_number'},inplace=True)"
   ]
  },
  {
   "cell_type": "code",
   "execution_count": 26,
   "metadata": {},
   "outputs": [
    {
     "data": {
      "text/html": [
       "<div>\n",
       "<style scoped>\n",
       "    .dataframe tbody tr th:only-of-type {\n",
       "        vertical-align: middle;\n",
       "    }\n",
       "\n",
       "    .dataframe tbody tr th {\n",
       "        vertical-align: top;\n",
       "    }\n",
       "\n",
       "    .dataframe thead th {\n",
       "        text-align: right;\n",
       "    }\n",
       "</style>\n",
       "<table border=\"1\" class=\"dataframe\">\n",
       "  <thead>\n",
       "    <tr style=\"text-align: right;\">\n",
       "      <th></th>\n",
       "      <th>userID</th>\n",
       "      <th>bookmarkID</th>\n",
       "      <th>tags_number</th>\n",
       "    </tr>\n",
       "  </thead>\n",
       "  <tbody>\n",
       "    <tr>\n",
       "      <th>0</th>\n",
       "      <td>8</td>\n",
       "      <td>1</td>\n",
       "      <td>1</td>\n",
       "    </tr>\n",
       "    <tr>\n",
       "      <th>1</th>\n",
       "      <td>8</td>\n",
       "      <td>2</td>\n",
       "      <td>1</td>\n",
       "    </tr>\n",
       "    <tr>\n",
       "      <th>2</th>\n",
       "      <td>8</td>\n",
       "      <td>7</td>\n",
       "      <td>1</td>\n",
       "    </tr>\n",
       "    <tr>\n",
       "      <th>3</th>\n",
       "      <td>8</td>\n",
       "      <td>8</td>\n",
       "      <td>1</td>\n",
       "    </tr>\n",
       "    <tr>\n",
       "      <th>4</th>\n",
       "      <td>8</td>\n",
       "      <td>9</td>\n",
       "      <td>1</td>\n",
       "    </tr>\n",
       "  </tbody>\n",
       "</table>\n",
       "</div>"
      ],
      "text/plain": [
       "   userID  bookmarkID  tags_number\n",
       "0       8           1            1\n",
       "1       8           2            1\n",
       "2       8           7            1\n",
       "3       8           8            1\n",
       "4       8           9            1"
      ]
     },
     "execution_count": 26,
     "metadata": {},
     "output_type": "execute_result"
    }
   ],
   "source": [
    "raw_data.head()"
   ]
  },
  {
   "cell_type": "code",
   "execution_count": null,
   "metadata": {},
   "outputs": [],
   "source": [
    "# remove null rows"
   ]
  },
  {
   "cell_type": "code",
   "execution_count": 27,
   "metadata": {},
   "outputs": [],
   "source": [
    "data = raw_data.dropna()"
   ]
  },
  {
   "cell_type": "code",
   "execution_count": 49,
   "metadata": {},
   "outputs": [],
   "source": [
    "# range unique userID\n",
    "unique_id = range(len(set(data['userID'].unique())))"
   ]
  },
  {
   "cell_type": "code",
   "execution_count": 58,
   "metadata": {},
   "outputs": [],
   "source": [
    "# range unique bookmarkID\n",
    "unique_id_book = range(len(set(data['bookmarkID'].unique())))"
   ]
  },
  {
   "cell_type": "code",
   "execution_count": 64,
   "metadata": {},
   "outputs": [],
   "source": [
    "# dictionaries\n",
    "userID_lookup = dict(zip(unique_id,data['userID'].unique()))\n",
    "bookmarkID_lookup = dict(zip(unique_id_book,data['bookmarkID'].unique()))"
   ]
  },
  {
   "cell_type": "code",
   "execution_count": 77,
   "metadata": {},
   "outputs": [],
   "source": [
    "# make dictionary to match unique user ID with user number\n",
    "user_dic = {user:number for number,user in userID_lookup.items()}"
   ]
  },
  {
   "cell_type": "code",
   "execution_count": null,
   "metadata": {},
   "outputs": [],
   "source": [
    "# make dictionary to match unique bookmarkID with bookmark number"
   ]
  },
  {
   "cell_type": "code",
   "execution_count": 80,
   "metadata": {},
   "outputs": [],
   "source": [
    "bookmark_dic = {book:number for number,book in bookmarkID_lookup.items()}"
   ]
  },
  {
   "cell_type": "code",
   "execution_count": 81,
   "metadata": {},
   "outputs": [],
   "source": [
    "# apply map function to update data\n",
    "data['userID'] = data['userID'].map(user_dic)\n",
    "data['bookmarkID'] = data['bookmarkID'].map(bookmark_dic)"
   ]
  },
  {
   "cell_type": "code",
   "execution_count": 82,
   "metadata": {},
   "outputs": [
    {
     "data": {
      "text/html": [
       "<div>\n",
       "<style scoped>\n",
       "    .dataframe tbody tr th:only-of-type {\n",
       "        vertical-align: middle;\n",
       "    }\n",
       "\n",
       "    .dataframe tbody tr th {\n",
       "        vertical-align: top;\n",
       "    }\n",
       "\n",
       "    .dataframe thead th {\n",
       "        text-align: right;\n",
       "    }\n",
       "</style>\n",
       "<table border=\"1\" class=\"dataframe\">\n",
       "  <thead>\n",
       "    <tr style=\"text-align: right;\">\n",
       "      <th></th>\n",
       "      <th>userID</th>\n",
       "      <th>bookmarkID</th>\n",
       "      <th>tags_number</th>\n",
       "    </tr>\n",
       "  </thead>\n",
       "  <tbody>\n",
       "    <tr>\n",
       "      <th>0</th>\n",
       "      <td>0</td>\n",
       "      <td>0</td>\n",
       "      <td>1</td>\n",
       "    </tr>\n",
       "    <tr>\n",
       "      <th>1</th>\n",
       "      <td>0</td>\n",
       "      <td>1</td>\n",
       "      <td>1</td>\n",
       "    </tr>\n",
       "    <tr>\n",
       "      <th>2</th>\n",
       "      <td>0</td>\n",
       "      <td>2</td>\n",
       "      <td>1</td>\n",
       "    </tr>\n",
       "    <tr>\n",
       "      <th>3</th>\n",
       "      <td>0</td>\n",
       "      <td>3</td>\n",
       "      <td>1</td>\n",
       "    </tr>\n",
       "    <tr>\n",
       "      <th>4</th>\n",
       "      <td>0</td>\n",
       "      <td>4</td>\n",
       "      <td>1</td>\n",
       "    </tr>\n",
       "  </tbody>\n",
       "</table>\n",
       "</div>"
      ],
      "text/plain": [
       "   userID  bookmarkID  tags_number\n",
       "0       0           0            1\n",
       "1       0           1            1\n",
       "2       0           2            1\n",
       "3       0           3            1\n",
       "4       0           4            1"
      ]
     },
     "execution_count": 82,
     "metadata": {},
     "output_type": "execute_result"
    }
   ],
   "source": [
    "data.head()"
   ]
  },
  {
   "cell_type": "code",
   "execution_count": 88,
   "metadata": {},
   "outputs": [],
   "source": [
    "url_id = pd.read_table('bookmarks.dat',sep='\\\\n', delimiter='\\\\t')"
   ]
  },
  {
   "cell_type": "code",
   "execution_count": 90,
   "metadata": {},
   "outputs": [
    {
     "data": {
      "text/html": [
       "<div>\n",
       "<style scoped>\n",
       "    .dataframe tbody tr th:only-of-type {\n",
       "        vertical-align: middle;\n",
       "    }\n",
       "\n",
       "    .dataframe tbody tr th {\n",
       "        vertical-align: top;\n",
       "    }\n",
       "\n",
       "    .dataframe thead th {\n",
       "        text-align: right;\n",
       "    }\n",
       "</style>\n",
       "<table border=\"1\" class=\"dataframe\">\n",
       "  <thead>\n",
       "    <tr style=\"text-align: right;\">\n",
       "      <th></th>\n",
       "      <th>id</th>\n",
       "      <th>md5</th>\n",
       "      <th>title</th>\n",
       "      <th>url</th>\n",
       "      <th>md5Principal</th>\n",
       "      <th>urlPrincipal</th>\n",
       "    </tr>\n",
       "  </thead>\n",
       "  <tbody>\n",
       "    <tr>\n",
       "      <th>0</th>\n",
       "      <td>1</td>\n",
       "      <td>ab4954b633ddaf5b5bba6e9b71aa6b70</td>\n",
       "      <td>IFLA - The official website of the Internation...</td>\n",
       "      <td>http://www.ifla.org/</td>\n",
       "      <td>7f431306c428457bc4e12b15634484f</td>\n",
       "      <td>www.ifla.org</td>\n",
       "    </tr>\n",
       "  </tbody>\n",
       "</table>\n",
       "</div>"
      ],
      "text/plain": [
       "   id                               md5  \\\n",
       "0   1  ab4954b633ddaf5b5bba6e9b71aa6b70   \n",
       "\n",
       "                                               title                   url  \\\n",
       "0  IFLA - The official website of the Internation...  http://www.ifla.org/   \n",
       "\n",
       "                      md5Principal  urlPrincipal  \n",
       "0  7f431306c428457bc4e12b15634484f  www.ifla.org  "
      ]
     },
     "execution_count": 90,
     "metadata": {},
     "output_type": "execute_result"
    }
   ],
   "source": [
    "url_id.head(1)"
   ]
  },
  {
   "cell_type": "code",
   "execution_count": 91,
   "metadata": {},
   "outputs": [],
   "source": [
    "# remove useless columns\n",
    "url_id.drop(['md5','md5Principal'],axis=1,inplace=True)"
   ]
  },
  {
   "cell_type": "code",
   "execution_count": 92,
   "metadata": {},
   "outputs": [
    {
     "data": {
      "text/html": [
       "<div>\n",
       "<style scoped>\n",
       "    .dataframe tbody tr th:only-of-type {\n",
       "        vertical-align: middle;\n",
       "    }\n",
       "\n",
       "    .dataframe tbody tr th {\n",
       "        vertical-align: top;\n",
       "    }\n",
       "\n",
       "    .dataframe thead th {\n",
       "        text-align: right;\n",
       "    }\n",
       "</style>\n",
       "<table border=\"1\" class=\"dataframe\">\n",
       "  <thead>\n",
       "    <tr style=\"text-align: right;\">\n",
       "      <th></th>\n",
       "      <th>id</th>\n",
       "      <th>title</th>\n",
       "      <th>url</th>\n",
       "      <th>urlPrincipal</th>\n",
       "    </tr>\n",
       "  </thead>\n",
       "  <tbody>\n",
       "    <tr>\n",
       "      <th>0</th>\n",
       "      <td>1</td>\n",
       "      <td>IFLA - The official website of the Internation...</td>\n",
       "      <td>http://www.ifla.org/</td>\n",
       "      <td>www.ifla.org</td>\n",
       "    </tr>\n",
       "  </tbody>\n",
       "</table>\n",
       "</div>"
      ],
      "text/plain": [
       "   id                                              title  \\\n",
       "0   1  IFLA - The official website of the Internation...   \n",
       "\n",
       "                    url  urlPrincipal  \n",
       "0  http://www.ifla.org/  www.ifla.org  "
      ]
     },
     "execution_count": 92,
     "metadata": {},
     "output_type": "execute_result"
    }
   ],
   "source": [
    "url_id.head(1)"
   ]
  },
  {
   "cell_type": "code",
   "execution_count": 93,
   "metadata": {},
   "outputs": [],
   "source": [
    "ids = list(np.sort(data['userID'].unique()))\n",
    "urls = list(np.sort(data['bookmarkID'].unique()))"
   ]
  },
  {
   "cell_type": "code",
   "execution_count": 95,
   "metadata": {},
   "outputs": [],
   "source": [
    "rows = data['userID']\n",
    "cols = data['bookmarkID']\n",
    "tags_num = data['tags_number']"
   ]
  },
  {
   "cell_type": "code",
   "execution_count": 96,
   "metadata": {},
   "outputs": [
    {
     "data": {
      "text/plain": [
       "(104799, 104799, 104799)"
      ]
     },
     "execution_count": 96,
     "metadata": {},
     "output_type": "execute_result"
    }
   ],
   "source": [
    "len(tags_num), len(cols), len(rows)"
   ]
  },
  {
   "cell_type": "code",
   "execution_count": 97,
   "metadata": {},
   "outputs": [],
   "source": [
    "data_sparse = sparse.csr_matrix((tags_num, (cols, rows)), shape=(len(urls), len(ids)))"
   ]
  },
  {
   "cell_type": "code",
   "execution_count": 98,
   "metadata": {},
   "outputs": [
    {
     "name": "stderr",
     "output_type": "stream",
     "text": [
      "WARNING:root:OpenBLAS detected. Its highly recommend to set the environment variable 'export OPENBLAS_NUM_THREADS=1' to disable its internal multithreading\n",
      "100%|██████████| 15.0/15 [00:32<00:00,  2.17s/it]\n"
     ]
    }
   ],
   "source": [
    "model = AlternatingLeastSquares(factors=50)\n",
    "model.fit(data_sparse)"
   ]
  },
  {
   "cell_type": "code",
   "execution_count": 101,
   "metadata": {},
   "outputs": [
    {
     "name": "stdout",
     "output_type": "stream",
     "text": [
      "рекомендации для пользователя 13191\n"
     ]
    }
   ],
   "source": [
    "userid = 345\n",
    "print('рекомендации для пользователя {}'.format(user_id_lookup[userid]))\n",
    "recommendations = model.recommend(userid, data_sparse)"
   ]
  },
  {
   "cell_type": "code",
   "execution_count": 109,
   "metadata": {},
   "outputs": [
    {
     "data": {
      "text/plain": [
       "[(5932, 0.2477181),\n",
       " (6623, 0.20902392),\n",
       " (6430, 0.19734591),\n",
       " (19992, 0.18046561),\n",
       " (19989, 0.1755175),\n",
       " (20006, 0.1748682),\n",
       " (19969, 0.17420708),\n",
       " (19970, 0.17194818),\n",
       " (19990, 0.17123522),\n",
       " (19968, 0.17106175)]"
      ]
     },
     "execution_count": 109,
     "metadata": {},
     "output_type": "execute_result"
    }
   ],
   "source": [
    "recommendations"
   ]
  },
  {
   "cell_type": "code",
   "execution_count": 126,
   "metadata": {},
   "outputs": [],
   "source": [
    "list_rec = []\n",
    "for r in recommendations:\n",
    "    list_rec.append(bookmarkID_lookup[(r[0])])"
   ]
  },
  {
   "cell_type": "code",
   "execution_count": 127,
   "metadata": {},
   "outputs": [
    {
     "data": {
      "text/plain": [
       "[8294, 9320, 8981, 29335, 29331, 29352, 29308, 29309, 29332, 29306]"
      ]
     },
     "execution_count": 127,
     "metadata": {},
     "output_type": "execute_result"
    }
   ],
   "source": [
    "list_rec"
   ]
  },
  {
   "cell_type": "code",
   "execution_count": 128,
   "metadata": {},
   "outputs": [
    {
     "data": {
      "text/html": [
       "<div>\n",
       "<style scoped>\n",
       "    .dataframe tbody tr th:only-of-type {\n",
       "        vertical-align: middle;\n",
       "    }\n",
       "\n",
       "    .dataframe tbody tr th {\n",
       "        vertical-align: top;\n",
       "    }\n",
       "\n",
       "    .dataframe thead th {\n",
       "        text-align: right;\n",
       "    }\n",
       "</style>\n",
       "<table border=\"1\" class=\"dataframe\">\n",
       "  <thead>\n",
       "    <tr style=\"text-align: right;\">\n",
       "      <th></th>\n",
       "      <th>id</th>\n",
       "      <th>title</th>\n",
       "      <th>url</th>\n",
       "      <th>urlPrincipal</th>\n",
       "    </tr>\n",
       "  </thead>\n",
       "  <tbody>\n",
       "    <tr>\n",
       "      <th>8294</th>\n",
       "      <td>11905</td>\n",
       "      <td>9 Super Annoying Twitter Personality Types</td>\n",
       "      <td>http://www.socialtimes.com/2010/10/annoying-tw...</td>\n",
       "      <td>www.socialtimes.com</td>\n",
       "    </tr>\n",
       "    <tr>\n",
       "      <th>9320</th>\n",
       "      <td>13291</td>\n",
       "      <td>Body By Victoria - Secure Computing: Sec-C</td>\n",
       "      <td>http://www.hackerfactor.com/blog/index.php?/ar...</td>\n",
       "      <td>www.hackerfactor.com</td>\n",
       "    </tr>\n",
       "    <tr>\n",
       "      <th>8981</th>\n",
       "      <td>12756</td>\n",
       "      <td>» EuroIA 10 report: day 2 Johnny Holland – It&amp;...</td>\n",
       "      <td>http://johnnyholland.org/2010/09/25/euroia-10-...</td>\n",
       "      <td>johnnyholland.org</td>\n",
       "    </tr>\n",
       "    <tr>\n",
       "      <th>29335</th>\n",
       "      <td>43663</td>\n",
       "      <td>Hire Art: Five Artists on What It Means to Wor...</td>\n",
       "      <td>http://www.good.is/post/hire-art-five-artists-...</td>\n",
       "      <td>www.good.is</td>\n",
       "    </tr>\n",
       "    <tr>\n",
       "      <th>29331</th>\n",
       "      <td>43659</td>\n",
       "      <td>Jailed Chinese Dissident&amp;#039;s &amp;#039;Final St...</td>\n",
       "      <td>http://thelede.blogs.nytimes.com/2010/10/08/ja...</td>\n",
       "      <td>thelede.blogs.nytimes.com</td>\n",
       "    </tr>\n",
       "    <tr>\n",
       "      <th>29352</th>\n",
       "      <td>43687</td>\n",
       "      <td>Berenstain Bears . Games | PBS Kids</td>\n",
       "      <td>http://pbskids.org/berenstainbears/games/story...</td>\n",
       "      <td>pbskids.org</td>\n",
       "    </tr>\n",
       "    <tr>\n",
       "      <th>29308</th>\n",
       "      <td>43618</td>\n",
       "      <td>A Hidden Genius at the Apple Store / Duncan Da...</td>\n",
       "      <td>http://duncandavidson.com/blog/2010/10/apple-s...</td>\n",
       "      <td>duncandavidson.com</td>\n",
       "    </tr>\n",
       "    <tr>\n",
       "      <th>29309</th>\n",
       "      <td>43619</td>\n",
       "      <td>The making of Ephemicropolis on Vimeo</td>\n",
       "      <td>http://vimeo.com/10875342</td>\n",
       "      <td>vimeo.com</td>\n",
       "    </tr>\n",
       "    <tr>\n",
       "      <th>29332</th>\n",
       "      <td>43660</td>\n",
       "      <td>HOW TO: Export Your Illustrator Images to HTML...</td>\n",
       "      <td>http://mashable.com/2010/10/12/how-to-export-y...</td>\n",
       "      <td>mashable.com</td>\n",
       "    </tr>\n",
       "    <tr>\n",
       "      <th>29306</th>\n",
       "      <td>43614</td>\n",
       "      <td>blekko | /about</td>\n",
       "      <td>http://blekko.com/ws/+/about?h=1</td>\n",
       "      <td>blekko.com</td>\n",
       "    </tr>\n",
       "  </tbody>\n",
       "</table>\n",
       "</div>"
      ],
      "text/plain": [
       "          id                                              title  \\\n",
       "8294   11905         9 Super Annoying Twitter Personality Types   \n",
       "9320   13291         Body By Victoria - Secure Computing: Sec-C   \n",
       "8981   12756  » EuroIA 10 report: day 2 Johnny Holland – It&...   \n",
       "29335  43663  Hire Art: Five Artists on What It Means to Wor...   \n",
       "29331  43659  Jailed Chinese Dissident&#039;s &#039;Final St...   \n",
       "29352  43687                Berenstain Bears . Games | PBS Kids   \n",
       "29308  43618  A Hidden Genius at the Apple Store / Duncan Da...   \n",
       "29309  43619              The making of Ephemicropolis on Vimeo   \n",
       "29332  43660  HOW TO: Export Your Illustrator Images to HTML...   \n",
       "29306  43614                                    blekko | /about   \n",
       "\n",
       "                                                     url  \\\n",
       "8294   http://www.socialtimes.com/2010/10/annoying-tw...   \n",
       "9320   http://www.hackerfactor.com/blog/index.php?/ar...   \n",
       "8981   http://johnnyholland.org/2010/09/25/euroia-10-...   \n",
       "29335  http://www.good.is/post/hire-art-five-artists-...   \n",
       "29331  http://thelede.blogs.nytimes.com/2010/10/08/ja...   \n",
       "29352  http://pbskids.org/berenstainbears/games/story...   \n",
       "29308  http://duncandavidson.com/blog/2010/10/apple-s...   \n",
       "29309                          http://vimeo.com/10875342   \n",
       "29332  http://mashable.com/2010/10/12/how-to-export-y...   \n",
       "29306                   http://blekko.com/ws/+/about?h=1   \n",
       "\n",
       "                    urlPrincipal  \n",
       "8294         www.socialtimes.com  \n",
       "9320        www.hackerfactor.com  \n",
       "8981           johnnyholland.org  \n",
       "29335                www.good.is  \n",
       "29331  thelede.blogs.nytimes.com  \n",
       "29352                pbskids.org  \n",
       "29308         duncandavidson.com  \n",
       "29309                  vimeo.com  \n",
       "29332               mashable.com  \n",
       "29306                 blekko.com  "
      ]
     },
     "execution_count": 128,
     "metadata": {},
     "output_type": "execute_result"
    }
   ],
   "source": [
    "# what we will recommend user 13191\n",
    "url_id.loc[list_rec]"
   ]
  },
  {
   "cell_type": "code",
   "execution_count": 131,
   "metadata": {},
   "outputs": [
    {
     "name": "stdout",
     "output_type": "stream",
     "text": [
      "закладки схожие с 3116\n"
     ]
    }
   ],
   "source": [
    "itemid = 2233\n",
    "print('закладки схожие с {}'.format(bookmark_id_lookup[itemid]))"
   ]
  },
  {
   "cell_type": "code",
   "execution_count": 132,
   "metadata": {},
   "outputs": [],
   "source": [
    "related = model.similar_items(itemid)"
   ]
  },
  {
   "cell_type": "code",
   "execution_count": 133,
   "metadata": {},
   "outputs": [
    {
     "data": {
      "text/plain": [
       "[(2208, 0.10685859),\n",
       " (2234, 0.10685859),\n",
       " (2209, 0.10685859),\n",
       " (2217, 0.10685859),\n",
       " (2236, 0.10685859),\n",
       " (2237, 0.10685859),\n",
       " (2229, 0.10685859),\n",
       " (2211, 0.10685859),\n",
       " (2210, 0.10685859),\n",
       " (2212, 0.10685859)]"
      ]
     },
     "execution_count": 133,
     "metadata": {},
     "output_type": "execute_result"
    }
   ],
   "source": [
    "related"
   ]
  },
  {
   "cell_type": "code",
   "execution_count": 135,
   "metadata": {},
   "outputs": [],
   "source": [
    "list_rec = []\n",
    "for r in related:\n",
    "    list_rec.append(bookmarkID_lookup[(r[0])])"
   ]
  },
  {
   "cell_type": "code",
   "execution_count": 136,
   "metadata": {},
   "outputs": [
    {
     "data": {
      "text/plain": [
       "[3082, 3119, 3083, 3093, 3125, 3126, 3111, 3086, 3085, 3087]"
      ]
     },
     "execution_count": 136,
     "metadata": {},
     "output_type": "execute_result"
    }
   ],
   "source": [
    "list_rec"
   ]
  },
  {
   "cell_type": "code",
   "execution_count": 137,
   "metadata": {
    "scrolled": true
   },
   "outputs": [
    {
     "data": {
      "text/html": [
       "<div>\n",
       "<style scoped>\n",
       "    .dataframe tbody tr th:only-of-type {\n",
       "        vertical-align: middle;\n",
       "    }\n",
       "\n",
       "    .dataframe tbody tr th {\n",
       "        vertical-align: top;\n",
       "    }\n",
       "\n",
       "    .dataframe thead th {\n",
       "        text-align: right;\n",
       "    }\n",
       "</style>\n",
       "<table border=\"1\" class=\"dataframe\">\n",
       "  <thead>\n",
       "    <tr style=\"text-align: right;\">\n",
       "      <th></th>\n",
       "      <th>id</th>\n",
       "      <th>title</th>\n",
       "      <th>url</th>\n",
       "      <th>urlPrincipal</th>\n",
       "    </tr>\n",
       "  </thead>\n",
       "  <tbody>\n",
       "    <tr>\n",
       "      <th>3082</th>\n",
       "      <td>4415</td>\n",
       "      <td>The Mansurovs</td>\n",
       "      <td>http://mansurovs.com/</td>\n",
       "      <td>mansurovs.com</td>\n",
       "    </tr>\n",
       "    <tr>\n",
       "      <th>3119</th>\n",
       "      <td>4455</td>\n",
       "      <td>Security Lessons Learned From The Diaspora Lau...</td>\n",
       "      <td>http://www.kalzumeus.com/2010/09/22/security-l...</td>\n",
       "      <td>www.kalzumeus.com</td>\n",
       "    </tr>\n",
       "    <tr>\n",
       "      <th>3083</th>\n",
       "      <td>4416</td>\n",
       "      <td>17 Useful Htaccess Tricks and Tips</td>\n",
       "      <td>http://www.queness.com/post/5421/17-useful-hta...</td>\n",
       "      <td>www.queness.com</td>\n",
       "    </tr>\n",
       "    <tr>\n",
       "      <th>3093</th>\n",
       "      <td>4427</td>\n",
       "      <td>Chocomoko</td>\n",
       "      <td>http://www.chocomoko.com/sweetfm</td>\n",
       "      <td>www.chocomoko.com</td>\n",
       "    </tr>\n",
       "    <tr>\n",
       "      <th>3125</th>\n",
       "      <td>4463</td>\n",
       "      <td>ericmiraglia.com » The 2010 Web Application (R...</td>\n",
       "      <td>http://ericmiraglia.com/blog/?p=425</td>\n",
       "      <td>ericmiraglia.com</td>\n",
       "    </tr>\n",
       "    <tr>\n",
       "      <th>3126</th>\n",
       "      <td>4464</td>\n",
       "      <td>Chris Shiflett: Twitter OAuth</td>\n",
       "      <td>http://shiflett.org/blog/2010/sep/twitter-oauth</td>\n",
       "      <td>shiflett.org</td>\n",
       "    </tr>\n",
       "    <tr>\n",
       "      <th>3111</th>\n",
       "      <td>4446</td>\n",
       "      <td>Why we don&amp;#039;t have a parent selector - Sno...</td>\n",
       "      <td>http://snook.ca/archives/html_and_css/css-pare...</td>\n",
       "      <td>snook.ca</td>\n",
       "    </tr>\n",
       "    <tr>\n",
       "      <th>3086</th>\n",
       "      <td>4420</td>\n",
       "      <td>What Happened to Yahoo</td>\n",
       "      <td>http://paulgraham.com/yahoo.html</td>\n",
       "      <td>paulgraham.com</td>\n",
       "    </tr>\n",
       "    <tr>\n",
       "      <th>3085</th>\n",
       "      <td>4418</td>\n",
       "      <td>Firesheep countermeasure tool BlackSheep</td>\n",
       "      <td>http://www.net-security.org/secworld.php?id=10118</td>\n",
       "      <td>www.net-security.org</td>\n",
       "    </tr>\n",
       "    <tr>\n",
       "      <th>3087</th>\n",
       "      <td>4421</td>\n",
       "      <td>Avoiding Cache Stampedes with Pseudo-locks | P...</td>\n",
       "      <td>http://purplerockscissors.com/php-development/...</td>\n",
       "      <td>purplerockscissors.com</td>\n",
       "    </tr>\n",
       "  </tbody>\n",
       "</table>\n",
       "</div>"
      ],
      "text/plain": [
       "        id                                              title  \\\n",
       "3082  4415                                      The Mansurovs   \n",
       "3119  4455  Security Lessons Learned From The Diaspora Lau...   \n",
       "3083  4416                 17 Useful Htaccess Tricks and Tips   \n",
       "3093  4427                                          Chocomoko   \n",
       "3125  4463  ericmiraglia.com » The 2010 Web Application (R...   \n",
       "3126  4464                      Chris Shiflett: Twitter OAuth   \n",
       "3111  4446  Why we don&#039;t have a parent selector - Sno...   \n",
       "3086  4420                             What Happened to Yahoo   \n",
       "3085  4418           Firesheep countermeasure tool BlackSheep   \n",
       "3087  4421  Avoiding Cache Stampedes with Pseudo-locks | P...   \n",
       "\n",
       "                                                    url  \\\n",
       "3082                              http://mansurovs.com/   \n",
       "3119  http://www.kalzumeus.com/2010/09/22/security-l...   \n",
       "3083  http://www.queness.com/post/5421/17-useful-hta...   \n",
       "3093                   http://www.chocomoko.com/sweetfm   \n",
       "3125                http://ericmiraglia.com/blog/?p=425   \n",
       "3126    http://shiflett.org/blog/2010/sep/twitter-oauth   \n",
       "3111  http://snook.ca/archives/html_and_css/css-pare...   \n",
       "3086                   http://paulgraham.com/yahoo.html   \n",
       "3085  http://www.net-security.org/secworld.php?id=10118   \n",
       "3087  http://purplerockscissors.com/php-development/...   \n",
       "\n",
       "                urlPrincipal  \n",
       "3082           mansurovs.com  \n",
       "3119       www.kalzumeus.com  \n",
       "3083         www.queness.com  \n",
       "3093       www.chocomoko.com  \n",
       "3125        ericmiraglia.com  \n",
       "3126            shiflett.org  \n",
       "3111                snook.ca  \n",
       "3086          paulgraham.com  \n",
       "3085    www.net-security.org  \n",
       "3087  purplerockscissors.com  "
      ]
     },
     "execution_count": 137,
     "metadata": {},
     "output_type": "execute_result"
    }
   ],
   "source": [
    "# what is related to bookmark 3116\n",
    "url_id.loc[list_rec]"
   ]
  },
  {
   "cell_type": "code",
   "execution_count": null,
   "metadata": {},
   "outputs": [],
   "source": []
  }
 ],
 "metadata": {
  "kernelspec": {
   "display_name": "Python 3",
   "language": "python",
   "name": "python3"
  },
  "language_info": {
   "codemirror_mode": {
    "name": "ipython",
    "version": 3
   },
   "file_extension": ".py",
   "mimetype": "text/x-python",
   "name": "python",
   "nbconvert_exporter": "python",
   "pygments_lexer": "ipython3",
   "version": "3.6.8"
  }
 },
 "nbformat": 4,
 "nbformat_minor": 2
}
